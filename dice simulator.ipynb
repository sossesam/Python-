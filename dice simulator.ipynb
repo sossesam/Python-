{
 "cells": [
  {
   "cell_type": "code",
   "execution_count": 3,
   "id": "6709385d",
   "metadata": {},
   "outputs": [],
   "source": [
    "import random\n"
   ]
  },
  {
   "cell_type": "code",
   "execution_count": 6,
   "id": "d5c25ad0",
   "metadata": {},
   "outputs": [
    {
     "name": "stdout",
     "output_type": "stream",
     "text": [
      "You rolled 4 on your first dice and 5 on your second dice giving a total of 9\n"
     ]
    }
   ],
   "source": [
    "dice1 = int(random.randint(1,6))\n",
    "dice2 = int(random.randint(1,6))\n",
    "result = dice1 + dice2\n",
    "\n",
    "print(\"You rolled {} on your first dice and {} on your second dice giving a total of {}\".format(dice1,dice2,result))\n",
    "\n"
   ]
  }
 ],
 "metadata": {
  "kernelspec": {
   "display_name": "Python 3 (ipykernel)",
   "language": "python",
   "name": "python3"
  },
  "language_info": {
   "codemirror_mode": {
    "name": "ipython",
    "version": 3
   },
   "file_extension": ".py",
   "mimetype": "text/x-python",
   "name": "python",
   "nbconvert_exporter": "python",
   "pygments_lexer": "ipython3",
   "version": "3.9.9"
  }
 },
 "nbformat": 4,
 "nbformat_minor": 5
}
