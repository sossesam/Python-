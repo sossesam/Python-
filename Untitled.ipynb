{
 "cells": [
  {
   "cell_type": "code",
   "execution_count": 39,
   "id": "1390bed4",
   "metadata": {},
   "outputs": [
    {
     "name": "stdout",
     "output_type": "stream",
     "text": [
      "place your right hand on yellow\n"
     ]
    }
   ],
   "source": [
    "colour = [\"red\", \"yellow\",\"green\",\"blue\"]\n",
    "hand  = [\"right hand\",\"right leg\", \"left hand\", \"left leg\"]\n",
    "\n",
    "import random\n",
    "random_num1 = int(random.randint(0,3))\n",
    "random_num2 = int(random.randint(0,3))\n",
    "\n",
    "\n",
    "\n",
    "\n",
    "print(\"place your {} on {}\".format(hand[random_num1],colour[random_num2]))"
   ]
  },
  {
   "cell_type": "code",
   "execution_count": null,
   "id": "797bf4b1",
   "metadata": {},
   "outputs": [],
   "source": []
  }
 ],
 "metadata": {
  "kernelspec": {
   "display_name": "Python 3 (ipykernel)",
   "language": "python",
   "name": "python3"
  },
  "language_info": {
   "codemirror_mode": {
    "name": "ipython",
    "version": 3
   },
   "file_extension": ".py",
   "mimetype": "text/x-python",
   "name": "python",
   "nbconvert_exporter": "python",
   "pygments_lexer": "ipython3",
   "version": "3.9.9"
  }
 },
 "nbformat": 4,
 "nbformat_minor": 5
}
