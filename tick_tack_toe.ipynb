{
  "nbformat": 4,
  "nbformat_minor": 0,
  "metadata": {
    "colab": {
      "name": "tick_tack_toe.ipynb",
      "provenance": [],
      "collapsed_sections": [],
      "authorship_tag": "ABX9TyMBkBbYhi+pkuOrz2pvz5EB",
      "include_colab_link": true
    },
    "kernelspec": {
      "name": "python3",
      "display_name": "Python 3"
    },
    "language_info": {
      "name": "python"
    }
  },
  "cells": [
    {
      "cell_type": "markdown",
      "metadata": {
        "id": "view-in-github",
        "colab_type": "text"
      },
      "source": [
        "<a href=\"https://colab.research.google.com/github/sossesam/Python-/blob/main/tick_tack_toe.ipynb\" target=\"_parent\"><img src=\"https://colab.research.google.com/assets/colab-badge.svg\" alt=\"Open In Colab\"/></a>"
      ]
    },
    {
      "cell_type": "code",
      "execution_count": null,
      "metadata": {
        "id": "nveB4kT90LEn"
      },
      "outputs": [],
      "source": [
        ""
      ]
    },
    {
      "cell_type": "code",
      "source": [
        "currency = {\"USD\":415,\"POUNDS\":559, \"NGN\":1, \"YEN\":3.6 , \"RIYAL\":110}\n",
        "\n",
        "def currency_converter():\n",
        "  user = input(\"enter either USD, POUNDS, NGN, YEN, RIYAL\")\n",
        "  amount = int(input(\"enter the amount\"))\n",
        "  result = currency[user] * amount\n",
        "  print(\"{} {} IS EQUAL TO {} NAIRA \".format(amount, user, result))\n",
        "\n",
        "currency_converter()"
      ],
      "metadata": {
        "colab": {
          "base_uri": "https://localhost:8080/"
        },
        "id": "NjCISITO1ALd",
        "outputId": "1b612555-116c-4305-9c82-eda773ff67b9"
      },
      "execution_count": null,
      "outputs": [
        {
          "output_type": "stream",
          "name": "stdout",
          "text": [
            "enter either USD, POUNDS, NGN, YEN, RIYALUSD\n",
            "enter the amount800\n",
            "800 USD IS EQUAL TO 332000 NAIRA \n"
          ]
        }
      ]
    }
  ]
}