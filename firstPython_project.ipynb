{
  "nbformat": 4,
  "nbformat_minor": 0,
  "metadata": {
    "colab": {
      "name": "firstPython project.ipynb",
      "provenance": [],
      "collapsed_sections": [],
      "authorship_tag": "ABX9TyNNDGtUcSTwrp0BKx7gLOEI",
      "include_colab_link": true
    },
    "kernelspec": {
      "name": "python3",
      "display_name": "Python 3"
    },
    "language_info": {
      "name": "python"
    }
  },
  "cells": [
    {
      "cell_type": "markdown",
      "metadata": {
        "id": "view-in-github",
        "colab_type": "text"
      },
      "source": [
        "<a href=\"https://colab.research.google.com/github/sossesam/Python-/blob/main/firstPython_project.ipynb\" target=\"_parent\"><img src=\"https://colab.research.google.com/assets/colab-badge.svg\" alt=\"Open In Colab\"/></a>"
      ]
    },
    {
      "cell_type": "code",
      "source": [
        "name = input('What is your name')\n",
        "a = int(input('enter your first number'))\n",
        "b = int(input('enter your first number'))\n",
        "c = int(input('enter your first number'))\n",
        "result = (a + b)*c\n",
        "print('hello {} you entered {} , {}, {}, and this is the result {}'.format(name, a, b, c, result))"
      ],
      "metadata": {
        "id": "6nRFIw6cyaPh"
      },
      "execution_count": null,
      "outputs": []
    },
    {
      "cell_type": "code",
      "source": [
        "print('convert pounds to kilogram')\n",
        "pounds = int(input('enter weight in pounds'))\n",
        "\n",
        "kilogram=(pounds/2.2046)\n",
        "print(kilogram)"
      ],
      "metadata": {
        "id": "loGkRkt34eAg"
      },
      "execution_count": null,
      "outputs": []
    },
    {
      "cell_type": "code",
      "source": [
        "import random"
      ],
      "metadata": {
        "id": "XQBMCvdH5IYZ"
      },
      "execution_count": null,
      "outputs": []
    },
    {
      "cell_type": "code",
      "source": [
        "a = random.randint(1,6)\n",
        "\n",
        "print(a)"
      ],
      "metadata": {
        "id": "kGvDQjE28DSj"
      },
      "execution_count": null,
      "outputs": []
    },
    {
      "cell_type": "code",
      "source": [
        "roll1 = int(random.randint(1,6))\n",
        "roll2 = int(random.randint(1,6))\n",
        "\n",
        "result = roll1 + roll2\n",
        "\n",
        "print('dice 1 =' + str(roll1)+ ' dice 2 ='+ str(roll2) +' result is '+ str(result))"
      ],
      "metadata": {
        "id": "3pNfvcz88l87"
      },
      "execution_count": null,
      "outputs": []
    },
    {
      "cell_type": "code",
      "source": [
        "compNum = int(random.randint(1,100))\n",
        "userNum = int(input(\"guess a number\"))\n",
        "\n",
        "if compNum == userNum:\n",
        "  print(\"your chose the perfect number\")\n",
        "elif compNum < userNum:\n",
        "  print(\"you were close, But your number was to low\")\n",
        "else :\n",
        "  print(\"your number was to high\")\n",
        "  "
      ],
      "metadata": {
        "id": "t6ROFTGJCC59"
      },
      "execution_count": null,
      "outputs": []
    },
    {
      "cell_type": "code",
      "source": [
        "dollar = int(input(\"Enter amount\"))\n",
        "naira = dollar * 410.16\n",
        "euro = dollar * 0.89\n",
        "pound = dollar * 0.76\n",
        "exchange =input(\"enter currency\")\n",
        "\n",
        "currency = {\"Dollar\":dollar, \"Naira\":naira, \"euro\":euro, \"pound\":pound}\n",
        "print(currency[exchange])\n"
      ],
      "metadata": {
        "id": "atByk0C26eBv"
      },
      "execution_count": null,
      "outputs": []
    },
    {
      "cell_type": "code",
      "source": [
        "play = True\n",
        "\n",
        "while play==True:\n",
        "  user_input = int(input(\"enter a number\"))\n",
        "  comp_num = 10\n",
        "  if user_input == comp_num:\n",
        "    play == False\n",
        "    print(\"Good job\")\n",
        "    break"
      ],
      "metadata": {
        "id": "GTkmlk4lwKpB"
      },
      "execution_count": null,
      "outputs": []
    },
    {
      "cell_type": "code",
      "source": [
        "import random\n",
        "lose = False\n",
        "play = 5\n",
        "\n",
        "while play > 0:\n",
        "  user_guess = int(input(\"guess number\"))\n",
        "  comp_num = 5\n",
        "  if user_guess == comp_num:\n",
        "     \n",
        "     print(\"YOU WON\")\n",
        "     print(\"lives left: \"+ str(play))\n",
        "     break\n",
        "  else:\n",
        "    play = play - 1\n",
        "    print(\"YOU LOST\")\n",
        "    print(\"lives left: \"+ str(play))\n",
        "   \n",
        "   \n",
        "    \n"
      ],
      "metadata": {
        "id": "I2tn-nASwyDW"
      },
      "execution_count": null,
      "outputs": []
    },
    {
      "cell_type": "code",
      "source": [
        "#get user input\n",
        "  \n",
        "\n",
        "def user_play():\n",
        "    \n",
        "    user_input = input(\"play turn \")\n",
        "    if user_input == 1: \n",
        "      A1 = \"x\"\n",
        "    elif user_input == 2: \n",
        "      A2 = \"x\"\n",
        "    elif user_input == 3: \n",
        "      A3 = \"x\"\n",
        "    elif user_input == 4: \n",
        "      B1 = \"x\"\n",
        "    elif user_input == 5: \n",
        "      B2 = \"x\"\n",
        "    elif user_input == 6: \n",
        "      B3 = \"x\"\n",
        "    elif user_input == 7: \n",
        "      C1 = \"x\"\n",
        "    elif user_input == 8: \n",
        "      C2 = \"x\"\n",
        "    elif user_input == 9: \n",
        "      C3 = \"x\"\n",
        "    print(\"{}|{}|{}\\n{}|{}|{}\\n{}|{}|{}\".format(A1,A2,A3,B1,B2,B3,C1,C2,C3))\n",
        "\n",
        "user_play()"
      ],
      "metadata": {
        "id": "PdrYHc5QS21O"
      },
      "execution_count": null,
      "outputs": []
    },
    {
      "cell_type": "code",
      "source": [
        "#choose to play against a computer or human\n",
        "#create variable to store option\n",
        "#get input from user and store as x\n",
        "#get input from computer and store\n"
      ],
      "metadata": {
        "id": "mUPH9V4SSDqF"
      },
      "execution_count": null,
      "outputs": []
    },
    {
      "cell_type": "code",
      "source": [
        "computer= True\n",
        "\n",
        "\n",
        "def confirmer():\n",
        "  player_choice = input(\"Type [H] to choose human or [C] for computer\")\n",
        "  if player_choice == \"C\":\n",
        "    computer = True\n",
        "    print(\"You selected computer\")\n",
        "\n"
      ],
      "metadata": {
        "id": "ViawZqo-nDtt"
      },
      "execution_count": null,
      "outputs": []
    },
    {
      "cell_type": "code",
      "source": [
        "confirmer()"
      ],
      "metadata": {
        "id": "A2_kdMBArRM5"
      },
      "execution_count": null,
      "outputs": []
    },
    {
      "cell_type": "code",
      "source": [
        ""
      ],
      "metadata": {
        "id": "FLFT4SzwwniG"
      },
      "execution_count": null,
      "outputs": []
    }
  ]
}