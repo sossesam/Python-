{
  "nbformat": 4,
  "nbformat_minor": 0,
  "metadata": {
    "colab": {
      "name": "Classes-and-Objects.ipynb",
      "provenance": [],
      "authorship_tag": "ABX9TyN43RTxguZj39vw8XrhA9e4",
      "include_colab_link": true
    },
    "kernelspec": {
      "name": "python3",
      "display_name": "Python 3"
    },
    "language_info": {
      "name": "python"
    }
  },
  "cells": [
    {
      "cell_type": "markdown",
      "metadata": {
        "id": "view-in-github",
        "colab_type": "text"
      },
      "source": [
        "<a href=\"https://colab.research.google.com/github/sossesam/Python-/blob/main/Classes_and_Objects.ipynb\" target=\"_parent\"><img src=\"https://colab.research.google.com/assets/colab-badge.svg\" alt=\"Open In Colab\"/></a>"
      ]
    },
    {
      "cell_type": "code",
      "execution_count": 10,
      "metadata": {
        "colab": {
          "base_uri": "https://localhost:8080/",
          "height": 53
        },
        "id": "is0id2RuXBTT",
        "outputId": "6f222803-064e-4033-c624-545b89feaeb6"
      },
      "outputs": [
        {
          "output_type": "execute_result",
          "data": {
            "text/plain": [
              "'class Student:\\n    # [assignment] Skeleton class. Add your code here\\n    def __init__(self):\\n        pass\\n\\n\\n\\nBob = Student(name=\"Bob\", age=26, tracks=[\"FE\",\"BE\"],score=20.90)\\n\\n# Expected methods\\nBob.change_name(\"Peter\")\\nBob.change_age(34)\\nBob.add_track(\"UI/UX\")---------\\nBob.get_score()--------'"
            ],
            "application/vnd.google.colaboratory.intrinsic+json": {
              "type": "string"
            }
          },
          "metadata": {},
          "execution_count": 10
        }
      ],
      "source": [
        "'''class Student:\n",
        "    # [assignment] Skeleton class. Add your code here\n",
        "    def __init__(self):\n",
        "        pass\n",
        "\n",
        "\n",
        "\n",
        "Bob = Student(name=\"Bob\", age=26, tracks=[\"FE\",\"BE\"],score=20.90)\n",
        "\n",
        "# Expected methods\n",
        "Bob.change_name(\"Peter\")\n",
        "Bob.change_age(34)\n",
        "Bob.add_track(\"UI/UX\")---------\n",
        "Bob.get_score()--------'''\n"
      ]
    },
    {
      "cell_type": "code",
      "source": [
        "class Student:\n",
        "    # [assignment] Skeleton class. Add your code here\n",
        "    def __init__(self, name, age, tracks, score):\n",
        "        self.name=name\n",
        "        self.age= age\n",
        "        self.tracks = tracks\n",
        "        self.score = score\n",
        "\n",
        "    def change_name(self, name):\n",
        "        self.name = name\n",
        "\n",
        "    def change_age(self, age):\n",
        "        self.age = age\n",
        "\n",
        "\n",
        "    def getScore(self):\n",
        "          return self.score\n",
        "\n",
        "    def add_track(self, new_track):\n",
        "      tracks = self.tracks.append(new_track)\n",
        "      return self.tracks\n",
        "\n",
        "Bob = Student(name=\"Bob\", age=26, tracks=[\"FE\",\"BE\"],score=20.90)\n",
        "Sanmi = Student(name=\"Sanmi\", age=33, tracks=[\"FE\",\"BE\"],score=45)"
      ],
      "metadata": {
        "id": "_Z_QBp2aXwZ5"
      },
      "execution_count": 21,
      "outputs": []
    },
    {
      "cell_type": "code",
      "source": [
        "\n",
        "\n",
        "Sanmi.age\n",
        "Sanmi.score"
      ],
      "metadata": {
        "colab": {
          "base_uri": "https://localhost:8080/"
        },
        "id": "VOe9BYCXYw8P",
        "outputId": "b5ea1041-7b07-4fcd-f9a7-fbbde42f42d6"
      },
      "execution_count": 23,
      "outputs": [
        {
          "output_type": "execute_result",
          "data": {
            "text/plain": [
              "45"
            ]
          },
          "metadata": {},
          "execution_count": 23
        }
      ]
    }
  ]
}