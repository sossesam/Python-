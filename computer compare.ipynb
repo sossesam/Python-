{
 "cells": [
  {
   "cell_type": "code",
   "execution_count": 9,
   "id": "daf71961",
   "metadata": {},
   "outputs": [
    {
     "name": "stdout",
     "output_type": "stream",
     "text": [
      "choose a number between  1 and 100:  59\n",
      "computer rolled 15 and you chose 59.\n",
      "selected number was too high\n",
      "Try again\n"
     ]
    }
   ],
   "source": [
    "from random import randint\n",
    "\n",
    "computer= int(randint(1,100))\n",
    "user_play = int(input(\"choose a number between  1 and 100:  \"))\n",
    "\n",
    "print(\"computer rolled {} and you chose {}.\".format(computer, user_play))\n",
    "if computer == user_play:\n",
    "    print(\"Good job\")\n",
    "else:\n",
    "    if computer < user_play:\n",
    "         print(\"selected number was too high\")\n",
    "    if computer > user_play:\n",
    "         print(\"selected number was too low\")\n",
    "    print(\"Try again\")\n"
   ]
  },
  {
   "cell_type": "code",
   "execution_count": null,
   "id": "7a5e33ea",
   "metadata": {},
   "outputs": [],
   "source": []
  }
 ],
 "metadata": {
  "kernelspec": {
   "display_name": "Python 3 (ipykernel)",
   "language": "python",
   "name": "python3"
  },
  "language_info": {
   "codemirror_mode": {
    "name": "ipython",
    "version": 3
   },
   "file_extension": ".py",
   "mimetype": "text/x-python",
   "name": "python",
   "nbconvert_exporter": "python",
   "pygments_lexer": "ipython3",
   "version": "3.9.9"
  }
 },
 "nbformat": 4,
 "nbformat_minor": 5
}
