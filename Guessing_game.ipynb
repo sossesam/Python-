{
  "nbformat": 4,
  "nbformat_minor": 0,
  "metadata": {
    "colab": {
      "name": "Guessing game.ipynb",
      "provenance": [],
      "authorship_tag": "ABX9TyNb5DSqG2ZxI+D8eMd8klRr",
      "include_colab_link": true
    },
    "kernelspec": {
      "name": "python3",
      "display_name": "Python 3"
    },
    "language_info": {
      "name": "python"
    }
  },
  "cells": [
    {
      "cell_type": "markdown",
      "metadata": {
        "id": "view-in-github",
        "colab_type": "text"
      },
      "source": [
        "<a href=\"https://colab.research.google.com/github/sossesam/Python-/blob/main/Guessing_game.ipynb\" target=\"_parent\"><img src=\"https://colab.research.google.com/assets/colab-badge.svg\" alt=\"Open In Colab\"/></a>"
      ]
    },
    {
      "cell_type": "code",
      "execution_count": 42,
      "metadata": {
        "colab": {
          "base_uri": "https://localhost:8080/"
        },
        "id": "iapj2EznqoHY",
        "outputId": "f01521a4-0a73-43a8-e85a-05f773eb1628"
      },
      "outputs": [
        {
          "output_type": "stream",
          "name": "stdout",
          "text": [
            "Guess the number3\n",
            "4\n",
            "3\n",
            "try again, you have 5 lives\n",
            "5\n",
            "Guess the number4\n",
            "8\n",
            "4\n",
            "try again, you have 4 lives\n",
            "4\n",
            "Guess the number6\n",
            "6\n",
            "6\n",
            "You win with 3 lives left\n"
          ]
        }
      ],
      "source": [
        "from random import randint\n",
        "wen = 5\n",
        "\n",
        "\n",
        "while wen > 0:\n",
        "    user = int(input(\"Guess the number\"))\n",
        "    comp = randint(1,10)\n",
        "    print(comp)\n",
        "    print(user)\n",
        "    if comp == user:\n",
        "      print(\"You win with {} lives left\".format(wen) )\n",
        "      wen = wen + 1 \n",
        "      break\n",
        "    else:\n",
        "      print(\"try again, you have {} lives\".format(wen))\n",
        "      print(wen)\n",
        "    wen= wen -1"
      ]
    }
  ]
}