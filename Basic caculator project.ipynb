{
 "cells": [
  {
   "cell_type": "code",
   "execution_count": 4,
   "id": "43bd0c25",
   "metadata": {},
   "outputs": [
    {
     "name": "stdout",
     "output_type": "stream",
     "text": [
      "What is your namesanmi\n",
      "enter number 12\n",
      "enter number 23\n",
      "enter number 31\n",
      "Hello sanmi, you added 2 to 3 and multiplied it by 1 giving 5 as the result \n"
     ]
    }
   ],
   "source": [
    "user_name = input(\"What is your name\")\n",
    "\n",
    "num1 = int(input(\"enter number 1\"))\n",
    "num2 = int(input(\"enter number 2\"))\n",
    "num3 = int(input(\"enter number 3\"))\n",
    "\n",
    "result = (num1 + num2) * num3 \n",
    "\n",
    "print( \"Hello {}, you added {} to {} and multiplied it by {} giving {} as the result \".format(user_name, num1,num2,num3,result))"
   ]
  },
  {
   "cell_type": "code",
   "execution_count": 6,
   "id": "6652ee37",
   "metadata": {},
   "outputs": [
    {
     "data": {
      "text/plain": [
       "10.166666666666666"
      ]
     },
     "execution_count": 6,
     "metadata": {},
     "output_type": "execute_result"
    }
   ],
   "source": [
    "122/12\n"
   ]
  }
 ],
 "metadata": {
  "kernelspec": {
   "display_name": "Python 3 (ipykernel)",
   "language": "python",
   "name": "python3"
  },
  "language_info": {
   "codemirror_mode": {
    "name": "ipython",
    "version": 3
   },
   "file_extension": ".py",
   "mimetype": "text/x-python",
   "name": "python",
   "nbconvert_exporter": "python",
   "pygments_lexer": "ipython3",
   "version": "3.9.9"
  }
 },
 "nbformat": 4,
 "nbformat_minor": 5
}
